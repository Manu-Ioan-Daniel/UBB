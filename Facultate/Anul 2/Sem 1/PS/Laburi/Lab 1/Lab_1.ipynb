{
  "nbformat": 4,
  "nbformat_minor": 0,
  "metadata": {
    "colab": {
      "provenance": []
    },
    "kernelspec": {
      "name": "python3",
      "display_name": "Python 3"
    },
    "language_info": {
      "name": "python"
    }
  },
  "cells": [
    {
      "cell_type": "code",
      "execution_count": 8,
      "metadata": {
        "id": "RimAn3aj7lyA"
      },
      "outputs": [],
      "source": [
        "from random import sample\n",
        "from math import factorial\n",
        "from itertools import permutations"
      ]
    },
    {
      "cell_type": "code",
      "source": [
        "list(permutations(\"word\"))\n"
      ],
      "metadata": {
        "colab": {
          "base_uri": "https://localhost:8080/"
        },
        "id": "43MjDg9C-a-Z",
        "outputId": "fdaeb85a-5dec-4af2-9041-4e288d11ecfa"
      },
      "execution_count": 13,
      "outputs": [
        {
          "output_type": "execute_result",
          "data": {
            "text/plain": [
              "[('w', 'o', 'r', 'd'),\n",
              " ('w', 'o', 'd', 'r'),\n",
              " ('w', 'r', 'o', 'd'),\n",
              " ('w', 'r', 'd', 'o'),\n",
              " ('w', 'd', 'o', 'r'),\n",
              " ('w', 'd', 'r', 'o'),\n",
              " ('o', 'w', 'r', 'd'),\n",
              " ('o', 'w', 'd', 'r'),\n",
              " ('o', 'r', 'w', 'd'),\n",
              " ('o', 'r', 'd', 'w'),\n",
              " ('o', 'd', 'w', 'r'),\n",
              " ('o', 'd', 'r', 'w'),\n",
              " ('r', 'w', 'o', 'd'),\n",
              " ('r', 'w', 'd', 'o'),\n",
              " ('r', 'o', 'w', 'd'),\n",
              " ('r', 'o', 'd', 'w'),\n",
              " ('r', 'd', 'w', 'o'),\n",
              " ('r', 'd', 'o', 'w'),\n",
              " ('d', 'w', 'o', 'r'),\n",
              " ('d', 'w', 'r', 'o'),\n",
              " ('d', 'o', 'w', 'r'),\n",
              " ('d', 'o', 'r', 'w'),\n",
              " ('d', 'r', 'w', 'o'),\n",
              " ('d', 'r', 'o', 'w')]"
            ]
          },
          "metadata": {},
          "execution_count": 13
        }
      ]
    },
    {
      "cell_type": "code",
      "source": [
        "factorial(len(\"word\"))"
      ],
      "metadata": {
        "colab": {
          "base_uri": "https://localhost:8080/"
        },
        "id": "v7eshKLA-x15",
        "outputId": "dcc7bef0-ff33-491e-b0bf-04d93c21490e"
      },
      "execution_count": 14,
      "outputs": [
        {
          "output_type": "execute_result",
          "data": {
            "text/plain": [
              "24"
            ]
          },
          "metadata": {},
          "execution_count": 14
        }
      ]
    },
    {
      "cell_type": "code",
      "source": [
        "sample(list(\"word\"),4)"
      ],
      "metadata": {
        "colab": {
          "base_uri": "https://localhost:8080/"
        },
        "id": "Zz2j3v0P_PKZ",
        "outputId": "ccde0580-865c-4a82-af45-95fa5c47082b"
      },
      "execution_count": 23,
      "outputs": [
        {
          "output_type": "execute_result",
          "data": {
            "text/plain": [
              "['r', 'o', 'd', 'w']"
            ]
          },
          "metadata": {},
          "execution_count": 23
        }
      ]
    },
    {
      "cell_type": "code",
      "source": [
        "from math import perm,comb\n",
        "from itertools import combinations"
      ],
      "metadata": {
        "id": "rngTVTJ-_ivm"
      },
      "execution_count": 24,
      "outputs": []
    },
    {
      "cell_type": "code",
      "source": [
        "def aranjamente(cuvant,numar,aleator=False,numarTotal=False):\n",
        "  if aleator:\n",
        "      print(sample(list(cuvant),2))\n",
        "  if numarTotal:\n",
        "      print(factorial(len(cuvant))//factorial(len(cuvant)-numar))\n",
        "  if not aleator and not numarTotal:\n",
        "      print(list(permutations(cuvant,numar)))\n",
        "\n",
        ""
      ],
      "metadata": {
        "id": "k2ii8YYsArYt"
      },
      "execution_count": 58,
      "outputs": []
    },
    {
      "cell_type": "code",
      "source": [
        "aranjamente(\"word\",2)"
      ],
      "metadata": {
        "colab": {
          "base_uri": "https://localhost:8080/"
        },
        "id": "_ncyhpY0CkzT",
        "outputId": "121f1629-aca9-4b03-86e6-9462177dd127"
      },
      "execution_count": 59,
      "outputs": [
        {
          "output_type": "stream",
          "name": "stdout",
          "text": [
            "[('w', 'o'), ('w', 'r'), ('w', 'd'), ('o', 'w'), ('o', 'r'), ('o', 'd'), ('r', 'w'), ('r', 'o'), ('r', 'd'), ('d', 'w'), ('d', 'o'), ('d', 'r')]\n"
          ]
        }
      ]
    },
    {
      "cell_type": "code",
      "source": [
        "aranjamente(\"word\",2,aleator=True)"
      ],
      "metadata": {
        "colab": {
          "base_uri": "https://localhost:8080/"
        },
        "id": "QQrwd7PkCyu6",
        "outputId": "a218b90d-9192-4be4-c9ba-cceb32ba92f0"
      },
      "execution_count": 60,
      "outputs": [
        {
          "output_type": "stream",
          "name": "stdout",
          "text": [
            "['d', 'o']\n"
          ]
        }
      ]
    },
    {
      "cell_type": "code",
      "source": [
        "aranjamente(\"word\",2,numarTotal=True)"
      ],
      "metadata": {
        "colab": {
          "base_uri": "https://localhost:8080/"
        },
        "id": "do2LpvOQDUw_",
        "outputId": "0243b0eb-1da6-4f24-8d08-465e177c88f2"
      },
      "execution_count": 61,
      "outputs": [
        {
          "output_type": "stream",
          "name": "stdout",
          "text": [
            "12\n"
          ]
        }
      ]
    },
    {
      "cell_type": "code",
      "source": [
        "def combinari(cuvant,numar,aleator=False,numarTotal=False):\n",
        "  if not aleator and not numarTotal:\n",
        "    print(list(combinations(cuvant,numar)))\n",
        "  if aleator:\n",
        "    sampleNesortat=sample(list(cuvant),numar)\n",
        "    sampleSortat=sorted(sampleNesortat,key=lambda x:cuvant.index(x))\n",
        "    print(sampleSortat)\n",
        "  if numarTotal:\n",
        "    print(factorial(len(cuvant))//(factorial(numar)*factorial(len(cuvant)-numar)))\n",
        "\n",
        "\n"
      ],
      "metadata": {
        "id": "RSSUUTAyDiFA"
      },
      "execution_count": 78,
      "outputs": []
    },
    {
      "cell_type": "code",
      "source": [
        "combinari(\"word\",2)"
      ],
      "metadata": {
        "colab": {
          "base_uri": "https://localhost:8080/"
        },
        "id": "BhMOgXjzD4v3",
        "outputId": "6e37c929-098c-4711-bf64-8746c801f710"
      },
      "execution_count": 79,
      "outputs": [
        {
          "output_type": "stream",
          "name": "stdout",
          "text": [
            "[('w', 'o'), ('w', 'r'), ('w', 'd'), ('o', 'r'), ('o', 'd'), ('r', 'd')]\n"
          ]
        }
      ]
    },
    {
      "cell_type": "code",
      "source": [
        "combinari(\"word\",2,aleator=True)"
      ],
      "metadata": {
        "colab": {
          "base_uri": "https://localhost:8080/"
        },
        "id": "ufaWDHqQD_AD",
        "outputId": "f0e0c121-bdba-4882-9a0f-d9cf61d345af"
      },
      "execution_count": 80,
      "outputs": [
        {
          "output_type": "stream",
          "name": "stdout",
          "text": [
            "['w', 'o']\n"
          ]
        }
      ]
    },
    {
      "cell_type": "code",
      "source": [
        "combinari(\"word\",2,numarTotal=True)"
      ],
      "metadata": {
        "colab": {
          "base_uri": "https://localhost:8080/"
        },
        "id": "3BafLrl3FZCu",
        "outputId": "34703568-8871-4b8d-cbd1-8e75fd7eb2a2"
      },
      "execution_count": 81,
      "outputs": [
        {
          "output_type": "stream",
          "name": "stdout",
          "text": [
            "6\n"
          ]
        }
      ]
    },
    {
      "cell_type": "code",
      "source": [
        "from itertools import combinations_with_replacement"
      ],
      "metadata": {
        "id": "El9nswEbLQMJ"
      },
      "execution_count": 82,
      "outputs": []
    },
    {
      "cell_type": "code",
      "source": [
        "list(combinations_with_replacement('ABCDE',4))"
      ],
      "metadata": {
        "colab": {
          "base_uri": "https://localhost:8080/"
        },
        "id": "x0XxjVShLUZQ",
        "outputId": "de251556-7c3b-4d08-87f9-63ae1f446d4b"
      },
      "execution_count": 84,
      "outputs": [
        {
          "output_type": "execute_result",
          "data": {
            "text/plain": [
              "[('A', 'A', 'A', 'A'),\n",
              " ('A', 'A', 'A', 'B'),\n",
              " ('A', 'A', 'A', 'C'),\n",
              " ('A', 'A', 'A', 'D'),\n",
              " ('A', 'A', 'A', 'E'),\n",
              " ('A', 'A', 'B', 'B'),\n",
              " ('A', 'A', 'B', 'C'),\n",
              " ('A', 'A', 'B', 'D'),\n",
              " ('A', 'A', 'B', 'E'),\n",
              " ('A', 'A', 'C', 'C'),\n",
              " ('A', 'A', 'C', 'D'),\n",
              " ('A', 'A', 'C', 'E'),\n",
              " ('A', 'A', 'D', 'D'),\n",
              " ('A', 'A', 'D', 'E'),\n",
              " ('A', 'A', 'E', 'E'),\n",
              " ('A', 'B', 'B', 'B'),\n",
              " ('A', 'B', 'B', 'C'),\n",
              " ('A', 'B', 'B', 'D'),\n",
              " ('A', 'B', 'B', 'E'),\n",
              " ('A', 'B', 'C', 'C'),\n",
              " ('A', 'B', 'C', 'D'),\n",
              " ('A', 'B', 'C', 'E'),\n",
              " ('A', 'B', 'D', 'D'),\n",
              " ('A', 'B', 'D', 'E'),\n",
              " ('A', 'B', 'E', 'E'),\n",
              " ('A', 'C', 'C', 'C'),\n",
              " ('A', 'C', 'C', 'D'),\n",
              " ('A', 'C', 'C', 'E'),\n",
              " ('A', 'C', 'D', 'D'),\n",
              " ('A', 'C', 'D', 'E'),\n",
              " ('A', 'C', 'E', 'E'),\n",
              " ('A', 'D', 'D', 'D'),\n",
              " ('A', 'D', 'D', 'E'),\n",
              " ('A', 'D', 'E', 'E'),\n",
              " ('A', 'E', 'E', 'E'),\n",
              " ('B', 'B', 'B', 'B'),\n",
              " ('B', 'B', 'B', 'C'),\n",
              " ('B', 'B', 'B', 'D'),\n",
              " ('B', 'B', 'B', 'E'),\n",
              " ('B', 'B', 'C', 'C'),\n",
              " ('B', 'B', 'C', 'D'),\n",
              " ('B', 'B', 'C', 'E'),\n",
              " ('B', 'B', 'D', 'D'),\n",
              " ('B', 'B', 'D', 'E'),\n",
              " ('B', 'B', 'E', 'E'),\n",
              " ('B', 'C', 'C', 'C'),\n",
              " ('B', 'C', 'C', 'D'),\n",
              " ('B', 'C', 'C', 'E'),\n",
              " ('B', 'C', 'D', 'D'),\n",
              " ('B', 'C', 'D', 'E'),\n",
              " ('B', 'C', 'E', 'E'),\n",
              " ('B', 'D', 'D', 'D'),\n",
              " ('B', 'D', 'D', 'E'),\n",
              " ('B', 'D', 'E', 'E'),\n",
              " ('B', 'E', 'E', 'E'),\n",
              " ('C', 'C', 'C', 'C'),\n",
              " ('C', 'C', 'C', 'D'),\n",
              " ('C', 'C', 'C', 'E'),\n",
              " ('C', 'C', 'D', 'D'),\n",
              " ('C', 'C', 'D', 'E'),\n",
              " ('C', 'C', 'E', 'E'),\n",
              " ('C', 'D', 'D', 'D'),\n",
              " ('C', 'D', 'D', 'E'),\n",
              " ('C', 'D', 'E', 'E'),\n",
              " ('C', 'E', 'E', 'E'),\n",
              " ('D', 'D', 'D', 'D'),\n",
              " ('D', 'D', 'D', 'E'),\n",
              " ('D', 'D', 'E', 'E'),\n",
              " ('D', 'E', 'E', 'E'),\n",
              " ('E', 'E', 'E', 'E')]"
            ]
          },
          "metadata": {},
          "execution_count": 84
        }
      ]
    },
    {
      "cell_type": "code",
      "source": [
        "from more_itertools import distinct_permutations\n",
        "def scaune():\n",
        "  a=['1','2','3','4','5','l','l','l','l','l','l','l']\n",
        "  b=[]\n",
        "  for perm in distinct_permutations(a):\n",
        "    ok=True\n",
        "    for i in range(0,len(perm)-1):\n",
        "        if(perm[i]!='l' and perm[i+1]!='l'):\n",
        "            ok=False;\n",
        "            break;\n",
        "    if ok:\n",
        "      b.append(perm)\n",
        "  return len(b)\n",
        "scaune()\n",
        "\n",
        "\n"
      ],
      "metadata": {
        "colab": {
          "base_uri": "https://localhost:8080/"
        },
        "id": "nDCaH09VL4NV",
        "outputId": "f2ccbe1c-5fc3-4214-da91-0c2738ecc9f1"
      },
      "execution_count": 88,
      "outputs": [
        {
          "output_type": "execute_result",
          "data": {
            "text/plain": [
              "6720"
            ]
          },
          "metadata": {},
          "execution_count": 88
        }
      ]
    },
    {
      "cell_type": "code",
      "source": [],
      "metadata": {
        "id": "hPU0drBNPQSj"
      },
      "execution_count": null,
      "outputs": []
    }
  ]
}